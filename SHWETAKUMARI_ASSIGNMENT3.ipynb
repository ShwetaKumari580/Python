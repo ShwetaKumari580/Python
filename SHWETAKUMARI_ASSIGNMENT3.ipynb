{
 "cells": [
  {
   "cell_type": "markdown",
   "metadata": {},
   "source": [
    "# ASSIGNMENT - 3"
   ]
  },
  {
   "cell_type": "markdown",
   "metadata": {},
   "source": [
    "#### 1.\tWAP that will accept two sets of numbers and calculate the Pearson’s correlation coefficient between them. (Use necessary exception handling). (Optional if you do not know what it is)."
   ]
  },
  {
   "cell_type": "code",
   "execution_count": 1,
   "metadata": {},
   "outputs": [],
   "source": [
    "import math\n",
    "\n",
    "def mean(x):\n",
    "    sum = 0.0\n",
    "    for i in x:\n",
    "         sum += i\n",
    "    return sum / len(x) \n",
    "\n",
    "def StDev(x):\n",
    "    sumv = 0.0\n",
    "    for i in x:\n",
    "         sumv += (i - mean(x))**2\n",
    "    return math.sqrt(sumv/(len(x)-1))\n",
    "\n",
    "def pearson(x,y):\n",
    "    x_score = []\n",
    "    y_score = []\n",
    "\n",
    "    for i in x: \n",
    "        x_score.append((i - mean(x))/StDev(x)) \n",
    "\n",
    "    for j in y:\n",
    "        y_score.append((j - mean(y))/StDev(y))\n",
    "\n",
    "    return (sum([i*j for i,j in zip(x_score,y_score)]))/(len(x)-1)"
   ]
  },
  {
   "cell_type": "code",
   "execution_count": 2,
   "metadata": {},
   "outputs": [
    {
     "data": {
      "text/plain": [
       "0.989743318610787"
      ]
     },
     "execution_count": 2,
     "metadata": {},
     "output_type": "execute_result"
    }
   ],
   "source": [
    "pearson([4,9,8], [2,5,4])"
   ]
  },
  {
   "cell_type": "markdown",
   "metadata": {},
   "source": [
    "#### 2.\tWrite a program to print all prime numbers from 1 to 300."
   ]
  },
  {
   "cell_type": "code",
   "execution_count": 3,
   "metadata": {},
   "outputs": [
    {
     "name": "stdout",
     "output_type": "stream",
     "text": [
      "2\n",
      "3\n",
      "5\n",
      "7\n",
      "11\n",
      "13\n",
      "17\n",
      "19\n",
      "23\n",
      "29\n",
      "31\n",
      "37\n",
      "41\n",
      "43\n",
      "47\n",
      "53\n",
      "59\n",
      "61\n",
      "67\n",
      "71\n",
      "73\n",
      "79\n",
      "83\n",
      "89\n",
      "97\n",
      "101\n",
      "103\n",
      "107\n",
      "109\n",
      "113\n",
      "127\n",
      "131\n",
      "137\n",
      "139\n",
      "149\n",
      "151\n",
      "157\n",
      "163\n",
      "167\n",
      "173\n",
      "179\n",
      "181\n",
      "191\n",
      "193\n",
      "197\n",
      "199\n",
      "211\n",
      "223\n",
      "227\n",
      "229\n",
      "233\n",
      "239\n",
      "241\n",
      "251\n",
      "257\n",
      "263\n",
      "269\n",
      "271\n",
      "277\n",
      "281\n",
      "283\n",
      "293\n"
     ]
    }
   ],
   "source": [
    "start = 1\n",
    "end = 300\n",
    "\n",
    "#Using for loop to calculate the prime numbers in an interval(i.e 1 - 300)\n",
    "for i in range(start,end):\n",
    "    if i>1:\n",
    "        for j in range(2,i):\n",
    "            if(i % j==0):\n",
    "                break\n",
    "        else:\n",
    "            print(i)"
   ]
  },
  {
   "cell_type": "markdown",
   "metadata": {},
   "source": [
    "#### 3.\tWrite a program to print the multiplication table of the number entered by the user. The table should get displayed in the following form.\n",
    "* 29 * 1 = 29\n",
    "* 29\t*2 = 58\n"
   ]
  },
  {
   "cell_type": "code",
   "execution_count": 4,
   "metadata": {},
   "outputs": [
    {
     "name": "stdout",
     "output_type": "stream",
     "text": [
      "Enter a number for Multiplication Table: 45\n",
      "Multiplication Table of 45\n",
      "45 X 1 = 45\n",
      "45 X 2 = 90\n",
      "45 X 3 = 135\n",
      "45 X 4 = 180\n",
      "45 X 5 = 225\n",
      "45 X 6 = 270\n",
      "45 X 7 = 315\n",
      "45 X 8 = 360\n",
      "45 X 9 = 405\n",
      "45 X 10 = 450\n"
     ]
    }
   ],
   "source": [
    "x = int(input(\"Enter a number for Multiplication Table: \"))\n",
    "\n",
    "print(\"Multiplication Table of\", x)\n",
    "for i in range(1, 11):\n",
    "    print(x,\"X\",i,\"=\",x * i)"
   ]
  },
  {
   "cell_type": "markdown",
   "metadata": {},
   "source": [
    "#### 4.\tWAP which repeatedly reads numbers until the user enters “done”. Once “done” is entered, print out the total, count, and average of the numbers. If the user enters anything other than a number, detect their mistake using try and except and print an error message and skip to the next number. (Use of list is not allowed in this program)\n",
    " \n",
    "* Enter a number: 4\n",
    "* Enter a number: 5\n",
    "* Enter a number: nine\n",
    "* Invalid input\n",
    "* Enter a number: 7\n",
    "* Enter a number: done\n",
    "* 16\t3\t5.33333333333\t\n"
   ]
  },
  {
   "cell_type": "code",
   "execution_count": 5,
   "metadata": {},
   "outputs": [
    {
     "name": "stdout",
     "output_type": "stream",
     "text": [
      "Enter a number : 23\n",
      "Enter a number : 43\n",
      "Enter a number : 54\n",
      "Enter a number : 768\n",
      "Enter a number : done\n",
      "Total    Count   Average\n",
      "  888        4      222.0\n"
     ]
    }
   ],
   "source": [
    "x = 0\n",
    "total = 0\n",
    "while True:\n",
    "    number = input(\"Enter a number : \")\n",
    "    if number == 'done':\n",
    "        break\n",
    "    try :\n",
    "        num = int(number)\n",
    "    except:\n",
    "        print('Invailed Input')\n",
    "        continue\n",
    "    x = x+1\n",
    "    total = total + num\n",
    "print ('Total    Count   Average')\n",
    "print (\" \",total,\"      \",x,\"    \",total/x)"
   ]
  },
  {
   "cell_type": "markdown",
   "metadata": {},
   "source": [
    "#### 5.\tWrite another program that prompts for a list of numbers as above and at the end prints both the maximum and minimum of the numbers instead of the average. (Use of list is not allowed in this program)"
   ]
  },
  {
   "cell_type": "code",
   "execution_count": 6,
   "metadata": {},
   "outputs": [
    {
     "name": "stdout",
     "output_type": "stream",
     "text": [
      "Enter a number : 43\n",
      "Enter a number : 32\n",
      "Enter a number : 54\n",
      "Enter a number : break\n",
      "Invalid Input\n",
      "Enter a number : done\n",
      "\n",
      "Total    Count   \n",
      "  129        3     \n",
      "Minimum :  32\n",
      "Maximum :  54\n"
     ]
    }
   ],
   "source": [
    "num = 0\n",
    "total = 0\n",
    "l_num = None\n",
    "s_num = None\n",
    "while True:\n",
    "    number = input(\"Enter a number : \")\n",
    "    if number == 'done':\n",
    "        break\n",
    "    try :\n",
    "        num1 = int(number)\n",
    "        if l_num is None or number >= l_num:\n",
    "            l_num = number\n",
    "        if s_num is None or number <= s_num:\n",
    "            s_num = number\n",
    "    except:\n",
    "        print('Invalid Input')\n",
    "        continue\n",
    "    num = num+1\n",
    "    total = total + num1\n",
    "print ('\\nTotal    Count   ')\n",
    "print (\" \",total,\"      \",num,\"    \")\n",
    "print(\"Minimum : \",s_num)\n",
    "print(\"Maximum : \",l_num)"
   ]
  },
  {
   "cell_type": "markdown",
   "metadata": {},
   "source": [
    "#### 6.\tGuess a number is a game that prompts a player to guess a number between 0 and 9, which is randomly generated by the system. When the input given by the user matches the number generated by the system then the user wins. The game should go as follows:\n",
    "\t\n",
    "\tGuess the number: 5\n",
    "\tSorry, try again\n",
    "\tGuess the number: 3\n",
    "\tSorry, try again\n",
    "\tGuess the number: 8\n",
    "\tYou got it right! Congo!\n"
   ]
  },
  {
   "cell_type": "code",
   "execution_count": 8,
   "metadata": {},
   "outputs": [
    {
     "name": "stdout",
     "output_type": "stream",
     "text": [
      "Guess the number: 4\n",
      "sorry try again\n",
      "Guess the number: 5\n",
      "sorry try again\n",
      "Guess the number: exit\n",
      "Enjoy your day!\n"
     ]
    }
   ],
   "source": [
    "number=' '\n",
    "counter=0\n",
    "import random\n",
    "\n",
    "while 1:\n",
    "    number=input(\"Guess the number: \")\n",
    "    if number=='random.randint(0,9)':\n",
    "        print (\"You got it right! Congo!\")\n",
    "        break\n",
    "    if number==\"exit\":\n",
    "        print (\"Enjoy your day!\") \n",
    "        break\n",
    "    else:\n",
    "        print(\"sorry try again\")\n",
    "        continue"
   ]
  },
  {
   "cell_type": "markdown",
   "metadata": {},
   "source": [
    "#### 7.\tMake an improvement to the Guess a number game. Guide the user where they are standing and limit the number of attempts to 3. For example, the game should go like this:\n",
    "\t\n",
    "* Guess the number: 4\n",
    "Too low\n",
    "* Guess the number: 9\n",
    "Too high\n",
    "* Guess the number: 5\n",
    "Sorry you Lost!\n"
   ]
  },
  {
   "cell_type": "code",
   "execution_count": 13,
   "metadata": {},
   "outputs": [
    {
     "name": "stdout",
     "output_type": "stream",
     "text": [
      "Guess the number: 3\n",
      "You got it right! Congo!\n"
     ]
    }
   ],
   "source": [
    "number=' '\n",
    "counter=0\n",
    "import random\n",
    "\n",
    "for i in range(0,3):\n",
    "    number=int(input(\"Guess the number: \"))\n",
    "    if number==random.randint(0,9):\n",
    "        print (\"You got it right! Congo!\")\n",
    "        break\n",
    "    if number>random.randint(0,9):\n",
    "        print(\"Too High!\")\n",
    "        continue\n",
    "    if number<random.randint(0,9):\n",
    "        print(\"Too Low!\")\n",
    "        continue\n",
    "    elif str(number)==\"exit\":\n",
    "        print (\"Enjoy your day!\")    \n",
    "        break    \n",
    "    else:\n",
    "        print(\"Sorry, you lost!\")\n",
    "      "
   ]
  },
  {
   "cell_type": "markdown",
   "metadata": {},
   "source": [
    "#### 8.\tLet us make the above game a little more interesting by converting it into a gambling problem. Suppose that a player starts with Rs. 1,000. If a player can guess the number in his first chance, then he will be given a prize of Rs. 5,000, if he requires 2 attempts then he will get a prize of Rs.1,000. If he loses then he will lose Rs. 500. For example the game should go like this:\n",
    "\n",
    "* You have a cash of Rs. 1,000 with you... \n",
    "* Guess the number: 8\n",
    "* Too high\n",
    "* You have just won Rs. 1,000\n",
    "* Your balance: Rs. 2000\n"
   ]
  },
  {
   "cell_type": "code",
   "execution_count": 24,
   "metadata": {},
   "outputs": [
    {
     "name": "stdout",
     "output_type": "stream",
     "text": [
      "1000\n",
      "Guess a number between 0 and 9 1\n",
      "Too Low!\n",
      "Guess a number between 0 and 9 5\n",
      "Too Low!\n",
      "You lost your two attempts and Rs. 500. Final balance is Rs. 500\n"
     ]
    }
   ],
   "source": [
    "x = 1000\n",
    "import random \n",
    "num = random.randrange(1,10)\n",
    "print(x)                       ##To check balance \n",
    "i = 1\n",
    "while i<3:\n",
    "    g = int(input(\"Guess a number between 0 and 9 \"))\n",
    "    if g == num:\n",
    "        if i == 1:\n",
    "            print(\"Congrats! You got it in first chance! \")\n",
    "            print(\" You won 5000. Your total balance is: \", x + 5000 )\n",
    "            break\n",
    "        elif i == 2:\n",
    "            print(\"You just won 1000. Your total balance is: \" , x + 1000 )\n",
    "            break\n",
    "    elif g>num:\n",
    "        print(\"Too High! \")\n",
    "        i = i + 1\n",
    "    elif g<num:\n",
    "        print(\"Too Low!\")\n",
    "        i = i + 1\n",
    "else:\n",
    "    print(\"You lost your two attempts and Rs. 500. Final balance is Rs.\", x - 500)"
   ]
  },
  {
   "cell_type": "markdown",
   "metadata": {},
   "source": [
    "**THE END**"
   ]
  }
 ],
 "metadata": {
  "kernelspec": {
   "display_name": "Python 3",
   "language": "python",
   "name": "python3"
  },
  "language_info": {
   "codemirror_mode": {
    "name": "ipython",
    "version": 3
   },
   "file_extension": ".py",
   "mimetype": "text/x-python",
   "name": "python",
   "nbconvert_exporter": "python",
   "pygments_lexer": "ipython3",
   "version": "3.8.3"
  }
 },
 "nbformat": 4,
 "nbformat_minor": 4
}
