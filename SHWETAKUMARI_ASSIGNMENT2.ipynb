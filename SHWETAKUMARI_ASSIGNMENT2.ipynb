{
 "cells": [
  {
   "cell_type": "markdown",
   "metadata": {},
   "source": [
    "# ASSIGNMENT - 2"
   ]
  },
  {
   "cell_type": "markdown",
   "metadata": {},
   "source": [
    "### Write Python Program for the following (include necessary exception handling wherever required):\n",
    "\n",
    "#### 1.\tPrompt the user for a score between 0.0 and 1.0. If the score is out of range, print an error message. If the score is between 0.0 and 1.0, print a grade using the following table:\n",
    "\n",
    "\t\n",
    "* Score\t   Grade\n",
    " >= 0.9\t    A\n",
    " >= 0.8\t    B\n",
    " >= 0.7\t    C\n",
    " >= 0.6\t    D\n",
    " < 0.6\t    E\n"
   ]
  },
  {
   "cell_type": "code",
   "execution_count": 1,
   "metadata": {},
   "outputs": [
    {
     "name": "stdout",
     "output_type": "stream",
     "text": [
      "Enter a score between 0.0 and 1.0 : .8\n",
      "Grade B\n"
     ]
    }
   ],
   "source": [
    "x=float(input(\"Enter a score between 0.0 and 1.0 : \"))    #Prompting user for input a score.\n",
    "\n",
    "if (x>=0.9) and (x<1.0) :                        #Using if Ststement, to obtain the grade as per score.\n",
    "    print(\"Grade A\")\n",
    "elif (x>=0.8) and (x<0.9) :\n",
    "    print(\"Grade B\")\n",
    "elif (x>=0.7) and (x<0.8) :\n",
    "    print(\"Grade C\")\n",
    "elif (x>=0.6) and (x<0.7) :\n",
    "    print(\"Grade D\")\n",
    "elif (x<0.6) :\n",
    "    print(\"Grade E\")\n",
    "else:\n",
    "    print(\"Error\")"
   ]
  },
  {
   "cell_type": "markdown",
   "metadata": {},
   "source": [
    "#### 2.\tIf cost price and selling price of an item is input through the keyboard, write a program to determine whether the seller has made profit or incurred loss. Also determine how much profit he made or loss he incurred."
   ]
  },
  {
   "cell_type": "code",
   "execution_count": 2,
   "metadata": {},
   "outputs": [
    {
     "name": "stdout",
     "output_type": "stream",
     "text": [
      "Enter the Selling Price of the Product: Rs.34\n",
      "Enter the Cost Price of the Product: Rs.32\n",
      "You made a Profit of Rs. 2\n"
     ]
    }
   ],
   "source": [
    "x=int(input(\"Enter the Selling Price of the Product: Rs.\"))\n",
    "y=int(input(\"Enter the Cost Price of the Product: Rs.\"))\n",
    "if x>y:\n",
    "    print(\"You made a Profit of Rs.\",x-y )         #calculating and printing the Profit earned.\n",
    "else:\n",
    "    print(\"You incurred a loss of Rs.\",y-x)        #calculating and printing the Loss incurrred."
   ]
  },
  {
   "cell_type": "markdown",
   "metadata": {},
   "source": [
    "\n",
    "#### 3.\tAny year is input through the keyboard. Write a program to determine whether the year is a leap year or not.\n"
   ]
  },
  {
   "cell_type": "code",
   "execution_count": 3,
   "metadata": {},
   "outputs": [
    {
     "name": "stdout",
     "output_type": "stream",
     "text": [
      "Enter Year: 2018\n",
      "2018 is not a Leap Year\n"
     ]
    }
   ],
   "source": [
    "x = int(input(\"Enter Year: \"))   #Taking the value of Year in Variable x\n",
    "\n",
    "if x % 4 == 0 and x % 100 != 0:      #Checking whether the year is a leap year or not.\n",
    "    print(x, \"is a Leap Year\")\n",
    "elif x % 100 == 0:\n",
    "    print(x, \"is not a Leap Year\")\n",
    "elif x % 400 ==0:\n",
    "    print(x, \"is a Leap Year\")\n",
    "else:\n",
    "    print(x, \"is not a Leap Year\")\n"
   ]
  },
  {
   "cell_type": "markdown",
   "metadata": {},
   "source": [
    "#### 4.\tA five-digit number is entered through the keyboard. Write a program to obtain the reversed number and to determine whether the original and reversed numbers are equal or not."
   ]
  },
  {
   "cell_type": "code",
   "execution_count": 4,
   "metadata": {},
   "outputs": [
    {
     "name": "stdout",
     "output_type": "stream",
     "text": [
      "Enter a 5-digit number: 56783\n",
      "The reversed number:  38765\n",
      "The Original and the Reversed numbers are not equal. \n"
     ]
    }
   ],
   "source": [
    "x=int(input(\"Enter a 5-digit number: \"))\n",
    "rev = 0\n",
    "  \n",
    "while(x > 0): \n",
    "    a = x % 10\n",
    "    rev = rev * 10 + a \n",
    "    x = x // 10\n",
    "print(\"The reversed number: \",rev)     \n",
    "      \n",
    "if int(x) == int(rev):\n",
    "    print(\"The Original and the Reversed numbers are equal. \")\n",
    "else:\n",
    "    print(\"The Original and the Reversed numbers are not equal. \")"
   ]
  },
  {
   "cell_type": "markdown",
   "metadata": {},
   "source": [
    "#### 5.\tIf the ages of Ram, Shyam and Ajay are input through the keyboard, write a program to determine the youngest of the three."
   ]
  },
  {
   "cell_type": "code",
   "execution_count": 5,
   "metadata": {},
   "outputs": [
    {
     "name": "stdout",
     "output_type": "stream",
     "text": [
      "Enter the age of Ram: 778\n",
      "Enter the age of Shyam: 56\n",
      "Enter the age of Ajay: 940\n",
      "\n",
      " The youngest of the three is Shyam\n"
     ]
    }
   ],
   "source": [
    "Ram = int(input(\"Enter the age of Ram: \"))\n",
    "Shyam = int(input(\"Enter the age of Shyam: \"))\n",
    "Ajay = int(input(\"Enter the age of Ajay: \"))\n",
    "\n",
    "if Ram < Shyam and Ram < Ajay:\n",
    "    print(\"\\n The youngest of the three is Ram\")\n",
    "elif Shyam < Ram and Shyam < Ajay:\n",
    "    print(\"\\n The youngest of the three is Shyam\")\n",
    "elif Ajay < Ram and Ajay < Shyam:\n",
    "    print(\"\\nThe youngest of the three is Ajay\")\n",
    "else:\n",
    "    print(\"\\nSame Age\")\n"
   ]
  },
  {
   "cell_type": "markdown",
   "metadata": {},
   "source": [
    "#### 6.\tWrite a program to check whether a triangle is valid or not, when the three angles of the triangle are entered through the keyboard. A triangle is valid if the sum of all the three angles is equal to 180 degrees."
   ]
  },
  {
   "cell_type": "code",
   "execution_count": 6,
   "metadata": {},
   "outputs": [
    {
     "name": "stdout",
     "output_type": "stream",
     "text": [
      "Enter the 1st Angle of the Triangle: 45\n",
      "Enter the 2nd Angle of the Triangle: 78\n",
      "Enter the 3rd Angle of the Triangle: 98\n",
      "This Triangle is not Valid!\n"
     ]
    }
   ],
   "source": [
    "x = int(input(\"Enter the 1st Angle of the Triangle: \"))\n",
    "y = int(input(\"Enter the 2nd Angle of the Triangle: \"))\n",
    "z = int(input(\"Enter the 3rd Angle of the Triangle: \"))\n",
    "\n",
    "if x+y+z == 180:\n",
    "    print(\"The Triangle is Valid.\")\n",
    "else:\n",
    "    print(\"This Triangle is not Valid!\")"
   ]
  },
  {
   "cell_type": "markdown",
   "metadata": {},
   "source": [
    "#### 7.\tFind the absolute value of a number entered through the keyboard."
   ]
  },
  {
   "cell_type": "code",
   "execution_count": 7,
   "metadata": {},
   "outputs": [
    {
     "name": "stdout",
     "output_type": "stream",
     "text": [
      "Enter a Number: -65\n",
      "65\n"
     ]
    }
   ],
   "source": [
    "num=int(input(\"Enter a Number: \"))\n",
    "\n",
    "if num<0:\n",
    "    print(-1*num)\n",
    "else:\n",
    "    print(num)"
   ]
  },
  {
   "cell_type": "markdown",
   "metadata": {},
   "source": [
    "#### 8.\tGiven three points (x1, y1), (x2, y2) and (x3, y3), write a program to check if all the three points fall on one straight line."
   ]
  },
  {
   "cell_type": "code",
   "execution_count": 8,
   "metadata": {},
   "outputs": [],
   "source": [
    "# function to check if points fall on the same line or not.\n",
    "def line(x1, y1, x2, y2, x3, y3):             \n",
    "      \n",
    "    a = x1 * (y2 - y3) + x2 * (y3 - y1) + x3 * (y1 - y2) \n",
    "  \n",
    "    if (a == 0): \n",
    "        print(\"Yes\")\n",
    "    else: \n",
    "        print(\"No\")"
   ]
  },
  {
   "cell_type": "code",
   "execution_count": 9,
   "metadata": {},
   "outputs": [
    {
     "name": "stdout",
     "output_type": "stream",
     "text": [
      "Yes\n"
     ]
    }
   ],
   "source": [
    "x1, x2, x3, y1, y2, y3 = 1, 2, 1, 4, 1, 4\n",
    "line(x1, y1, x2, y2, x3, y3); "
   ]
  },
  {
   "cell_type": "markdown",
   "metadata": {},
   "source": [
    "#### 9.\tGiven a point (x, y), write a program to find out if it lies on the x-axis, y-axis or at the origin, viz. (0, 0)."
   ]
  },
  {
   "cell_type": "code",
   "execution_count": 12,
   "metadata": {},
   "outputs": [
    {
     "name": "stdout",
     "output_type": "stream",
     "text": [
      "Enter the x coordinate: 0\n",
      "Enter the y coordinate: 0\n",
      "The point lie on the Origin.\n"
     ]
    }
   ],
   "source": [
    "x=int(input(\"Enter the x coordinate: \"))\n",
    "y=int(input(\"Enter the y coordinate: \"))\n",
    "\n",
    "if x== 0 and y == 0:\n",
    "    print(\"The point lie on the Origin.\")\n",
    "elif x== 0:\n",
    "    print(\"The point lie on the y-axis.\")  \n",
    "elif y==0:\n",
    "    print(\"The point lie on the x-axis.\")\n",
    "elif x!=0 and y!=0:\n",
    "    print(\"The point does not lie on any axis.\")"
   ]
  },
  {
   "cell_type": "markdown",
   "metadata": {},
   "source": [
    "#### 10.\tAn Insurance company follows following rules to calculate premium.\n",
    "\n",
    "a.\tIf a person’s health is excellent and the person is between 25 and 35 years of age and lives in a city and is a male then the premium is Rs. 4 per thousand and his policy amount cannot exceed Rs. 2 lakhs.\n",
    "\n",
    "b.\tIf a person satisfies all the above conditions except that the sex is female then the premium is Rs. 3 per thousand and her policy amount cannot exceed Rs. 1 lakh.\n",
    "\n",
    "c.\tIf a person’s health is poor and the person is between 25 and 35 years of age and lives in a village and is a male\n",
    "\n",
    "Write a program to output whether the person should be insured or not, his/her premium rate and maximum amount for which he/she can be insured.\n"
   ]
  },
  {
   "cell_type": "code",
   "execution_count": 13,
   "metadata": {},
   "outputs": [
    {
     "name": "stdout",
     "output_type": "stream",
     "text": [
      "Enter the Health of the Person as (E for excellent/P for poor): E\n",
      "Age of the Person is between 25-35 (Y/N): Y\n",
      "Lives in (C for City/ V for village): C\n",
      "Gender (M/F): M\n",
      "The Person should be insured with the Premium Amount of= Rs. 4000\n",
      "The Policy Amount cannot exceed Rs. 200000\n"
     ]
    }
   ],
   "source": [
    "h = input(\"Enter the Health of the Person as (E for excellent/P for poor): \")\n",
    "p = input(\"Age of the Person is between 25-35 (Y/N): \")\n",
    "c = input(\"Lives in (C for City/ V for village): \")\n",
    "g = input(\"Gender (M/F): \")\n",
    "\n",
    "if (h=='e' or h=='E') and (p=='Y' or p=='y') and (c=='C' or c=='c') and (g=='M' or g=='m'):\n",
    "    premium = 4000                                       #Premium Amt. in Rupees\n",
    "    policy_amt = 200000                                  #Policy Amt. in Rupees.\n",
    "    print(\"The Person should be insured with the Premium Amount of= Rs.\",premium)\n",
    "    print(\"The Policy Amount cannot exceed Rs.\",policy_amt)\n",
    "    \n",
    "elif (h=='e' or h=='E') and (p=='Y' or p=='y') and (c=='C' or c=='c') and (g=='F' or g=='f'):\n",
    "    print(\"The Person should be insured with the Premium Amount of= Rs.\",premium-1000)\n",
    "    print(\"The Policy Amount cannot exceed Rs.\",policy_amt-100000) \n",
    "    \n",
    "elif (h=='p' or h=='P') and (p=='Y' or p=='y') and (c=='C' or c=='c') and (g=='M' or g=='m'):\n",
    "    print(\"The Person should be insured with the Premium Amount of= Rs.\",premium-1000)\n",
    "    print(\"The Policy Amount cannot exceed Rs.\",policy_amt-100000)    \n",
    "    \n",
    "else:\n",
    "    print(\"The Person should not be insured.\")      \n"
   ]
  },
  {
   "cell_type": "markdown",
   "metadata": {},
   "source": [
    "#### 11.\tA certain grade of steel is graded according to the following conditions:\n",
    "\n",
    "a.\t(i) Hardness must be greater than 50\n",
    "b.\t(ii) Carbon content must be less than 0.7\n",
    "c.\t(iii) Tensile strength must be greater than 5600\n",
    "\n",
    "The grades are as follows:\n",
    "\n",
    "Grade is 10 if all three conditions are met\n",
    " \tGrade is 9 if conditions (i) and (ii) are met\n",
    "Grade is 8 if conditions (ii) and (iii) are met\n",
    "Grade is 7 if conditions (i) and (iii) are met\n",
    "Grade is 6 if only one condition is met\n",
    "Grade is 5 if none of the conditions are met\n",
    "\n",
    "Write a program, which will require the user to give values of hardness, carbon content and tensile strength of the steel under consideration and output the grade of the steel.\n"
   ]
  },
  {
   "cell_type": "code",
   "execution_count": 14,
   "metadata": {},
   "outputs": [
    {
     "name": "stdout",
     "output_type": "stream",
     "text": [
      "Enter the Hardness value: 12\n",
      "Enter the Carbon Content: 34\n",
      "Enter the Tensile Strength: 34\n",
      "The Grade of the Steel is 5.\n"
     ]
    }
   ],
   "source": [
    "h=int(input(\"Enter the Hardness value: \"))\n",
    "cc=float(input(\"Enter the Carbon Content: \"))\n",
    "ts=int(input(\"Enter the Tensile Strength: \"))\n",
    "\n",
    "if h > 50 and cc < 0.7 and ts > 5600:\n",
    "    print(\"The Grade of the Steel is 10.\")\n",
    "elif h > 50 and cc < 0.7:\n",
    "    print(\"The Grade of the Steel is 9.\")\n",
    "elif cc < 0.7 and ts > 5600:\n",
    "    print(\"The Grade of the Steel is 8.\")\n",
    "elif h > 50 and ts > 5600:\n",
    "    print(\"The Grade of the Steel is 7.\")\n",
    "elif h > 50 or cc < 0.7 or ts > 5600:\n",
    "    print(\"The Grade of the Steel is 6.\")\n",
    "else:\n",
    "    print(\"The Grade of the Steel is 5.\")"
   ]
  },
  {
   "cell_type": "markdown",
   "metadata": {},
   "source": [
    "#### 12.\tA library charges a fine for every book returned late. For first 5 days the fine is 50 paise, for 6-10 days fine is one rupee and above 10 days fine is 5 rupees. If you return the book after 30 days your membership will be cancelled. Write a program to accept the number of days the member is late to return the book and display the fine or the appropriate message."
   ]
  },
  {
   "cell_type": "code",
   "execution_count": 16,
   "metadata": {},
   "outputs": [
    {
     "name": "stdout",
     "output_type": "stream",
     "text": [
      "Number of Days the member is late to return the Book: 23\n",
      "You will have to pay a fine of Rs. 50.00\n"
     ]
    }
   ],
   "source": [
    "days = int(input(\"Number of Days the member is late to return the Book: \"))\n",
    "\n",
    "if days <=5:\n",
    "    print(\"You will have to pay a fine of Rs. 0.50\")\n",
    "elif days >=6 and days <=10:    \n",
    "    print(\"You will have to pay a fine of Rs. 1.00\")\n",
    "elif days > 10 and days <=30:\n",
    "    print(\"You will have to pay a fine of Rs. 50.00\")\n",
    "elif days > 30:\n",
    "    print(\"Your membership has been cancelled!\")"
   ]
  },
  {
   "cell_type": "markdown",
   "metadata": {},
   "source": [
    "#### 13.\tThe policy followed by a company to process customer orders is given by the following rules:\n",
    "* a.\tIf a customer order is less than or equal to that in stock and has credit is OK, supply has requirement.\n",
    "* b.\tIf has credit is not OK do not supply. Send him intimation.\n",
    "* c.\tIf has credit is Ok but the item in stock is less than has\n",
    "\n",
    "order, supply what is in stock. Intimate to him data the balance will be shipped. Write a program to implement the company policy.\n"
   ]
  },
  {
   "cell_type": "code",
   "execution_count": 18,
   "metadata": {},
   "outputs": [
    {
     "name": "stdout",
     "output_type": "stream",
     "text": [
      "Enter Customer's Order(in units): 67\n",
      "Enter Customer's Credit (OK/NOT OK) : ok\n",
      "We have shipped a portion of your Order. Rest  -933 will be shipped later.\n"
     ]
    }
   ],
   "source": [
    "stock = 1000               #Assumed, stock = 1000 units. \n",
    "order = int(input(\"Enter Customer's Order(in units): \")) \n",
    "credit = (input(\"Enter Customer's Credit (OK/NOT OK) : \")) \n",
    "\n",
    "if order <= stock and credit == 'OK':\n",
    "    print(\"Your Order will be Supplied\")\n",
    "elif order <= stock and credit == 'NOT OK' or credit == 'not ok':    \n",
    "    print(\"Your Order cannot be Shipped as your Credit is NOT OK.\")\n",
    "else:\n",
    "    print(\"We have shipped a portion of your Order. Rest \",order-stock,\"will be shipped later.\")"
   ]
  },
  {
   "cell_type": "markdown",
   "metadata": {},
   "source": [
    "#### 14.\tIn a company, worker efficiency is determined on the basis of the time required for a worker to complete a particular job. If the time taken by the worker is between 2 – 3 hours, then the worker is said to be highly efficient. If the time required by the worker is between 3 – 4 hours, then the worker is ordered to improve speed. If the time taken is between 4 – 5 hours, the worker is given training to improve his speed, and if the time taken by the worker is more than 5 hours, then the worker has to leave the company. If the time taken by the worker is input through the keyboard, find the efficiency of the worker."
   ]
  },
  {
   "cell_type": "code",
   "execution_count": 20,
   "metadata": {},
   "outputs": [
    {
     "name": "stdout",
     "output_type": "stream",
     "text": [
      "Time-Taken by the Worker(in hours): 4\n",
      "The Worker is to be given training!\n"
     ]
    }
   ],
   "source": [
    "tt = float(input(\"Time-Taken by the Worker(in hours): \"))\n",
    "\n",
    "if tt >= 2 and tt < 3 :\n",
    "    print(\"The Worker is highly Efficient!\")\n",
    "    \n",
    "elif tt >= 3 and tt < 4 :\n",
    "    print(\"The Worker should improve his speed!\")\n",
    "    \n",
    "elif tt >= 4  and tt <=5 :\n",
    "    print(\"The Worker is to be given training!\")\n",
    "    \n",
    "elif tt >5 :\n",
    "    print(\"The Worker has to leave the Company!\")"
   ]
  },
  {
   "cell_type": "markdown",
   "metadata": {},
   "source": [
    "#### 15.\tA university has the following rules for a student to qualify for a degree with A as the main subject and B as the subsidiary subject:\n",
    "\n",
    "* a.\tHe should get 55 percent or more in A and 45 percent or more in B.\n",
    "* b.\tIf he gets than 55 percent in A he should get 55 percent or more in B. However, he should get at least 45 percent in A.\n",
    "* c.\tIf he gets less than 45 percent in B and 65 percent or more in A he is allowed to reappear in an examination in B to qualify.\n",
    "* d.\tIn all other cases he is declared to have failed.\n",
    "\n",
    "Write a program to receive marks in A and B and Output whether the student has passed, failed or is allowed to reappear in B.\n"
   ]
  },
  {
   "cell_type": "code",
   "execution_count": 21,
   "metadata": {},
   "outputs": [
    {
     "name": "stdout",
     "output_type": "stream",
     "text": [
      "Marks obtained in subject A: 98\n",
      "Marks obtained in subject B: 34\n",
      "The Student is allowed to reappear in examination B to Qualify fro the Degree!\n"
     ]
    }
   ],
   "source": [
    "#Assuming total marks in a subject = 100.\n",
    "a=float(input(\"Marks obtained in subject A: \"))                       \n",
    "b=float(input(\"Marks obtained in subject B: \"))\n",
    "\n",
    "if a >= 55 and b >= 45:\n",
    "    print(\"The Student is Qualified for the Degree!\")\n",
    "elif a >= 55 and a>= 45 and b >= 55:\n",
    "    print(\"The Student is Qualified for the Degree!\")\n",
    "elif a >= 65 and b < 45:\n",
    "    print(\"The Student is allowed to reappear in examination B to Qualify fro the Degree!\")\n",
    "else:\n",
    "    print(\"The Student has failed to Qualify for the degree!\")"
   ]
  },
  {
   "cell_type": "markdown",
   "metadata": {},
   "source": [
    "**THE END**"
   ]
  }
 ],
 "metadata": {
  "kernelspec": {
   "display_name": "Python 3",
   "language": "python",
   "name": "python3"
  },
  "language_info": {
   "codemirror_mode": {
    "name": "ipython",
    "version": 3
   },
   "file_extension": ".py",
   "mimetype": "text/x-python",
   "name": "python",
   "nbconvert_exporter": "python",
   "pygments_lexer": "ipython3",
   "version": "3.8.3"
  }
 },
 "nbformat": 4,
 "nbformat_minor": 4
}
